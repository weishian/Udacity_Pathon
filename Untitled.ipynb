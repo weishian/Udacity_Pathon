{
 "cells": [
  {
   "cell_type": "code",
   "execution_count": 1,
   "metadata": {},
   "outputs": [
    {
     "name": "stdout",
     "output_type": "stream",
     "text": [
      "hello world\n"
     ]
    }
   ],
   "source": [
    "print('hello world')"
   ]
  },
  {
   "cell_type": "code",
   "execution_count": 2,
   "metadata": {},
   "outputs": [
    {
     "data": {
      "text/plain": [
       "int"
      ]
     },
     "execution_count": 2,
     "metadata": {},
     "output_type": "execute_result"
    }
   ],
   "source": [
    "a = 123\n",
    "type(a)"
   ]
  },
  {
   "cell_type": "code",
   "execution_count": null,
   "metadata": {},
   "outputs": [],
   "source": []
  },
  {
   "cell_type": "code",
   "execution_count": 3,
   "metadata": {},
   "outputs": [
    {
     "data": {
      "text/plain": [
       "str"
      ]
     },
     "execution_count": 3,
     "metadata": {},
     "output_type": "execute_result"
    }
   ],
   "source": [
    "b = '456'\n",
    "type(b)"
   ]
  },
  {
   "cell_type": "code",
   "execution_count": 4,
   "metadata": {},
   "outputs": [
    {
     "data": {
      "text/plain": [
       "float"
      ]
     },
     "execution_count": 4,
     "metadata": {},
     "output_type": "execute_result"
    }
   ],
   "source": [
    "c = 8.70\n",
    "type(c)"
   ]
  },
  {
   "cell_type": "code",
   "execution_count": 5,
   "metadata": {},
   "outputs": [
    {
     "name": "stdout",
     "output_type": "stream",
     "text": [
      "13\n",
      "-3\n",
      "40\n",
      "0.625\n",
      "0\n",
      "390625\n"
     ]
    }
   ],
   "source": [
    "a = 5\n",
    "b = 8\n",
    "print(a + b)\n",
    "print(a - b)\n",
    "print(a * b)\n",
    "print(a / b)\n",
    "print(a // b)\n",
    "print(a ** b)"
   ]
  },
  {
   "cell_type": "code",
   "execution_count": 6,
   "metadata": {},
   "outputs": [
    {
     "name": "stdout",
     "output_type": "stream",
     "text": [
      "3\n",
      "4\n",
      "-3\n"
     ]
    }
   ],
   "source": [
    "a = -3\n",
    "b = 4\n",
    "print(abs(a))\n",
    "print(max(a,b))\n",
    "print(min(a,b))"
   ]
  },
  {
   "cell_type": "code",
   "execution_count": 8,
   "metadata": {},
   "outputs": [
    {
     "name": "stdout",
     "output_type": "stream",
     "text": [
      "579\n",
      "123456\n"
     ]
    }
   ],
   "source": [
    "a = 123\n",
    "b = '456'\n",
    "print(a + int(b))\n",
    "print(str(a)+b)"
   ]
  },
  {
   "cell_type": "code",
   "execution_count": 9,
   "metadata": {},
   "outputs": [
    {
     "name": "stdout",
     "output_type": "stream",
     "text": [
      "289\n",
      "a =  289\n",
      "Your Name: Daniel Chang\n",
      "Your Name:  Daniel Chang\n"
     ]
    }
   ],
   "source": [
    "a = input()\n",
    "print('a = ', a)\n",
    "\n",
    "b = input('Your Name: ' )\n",
    "print('Your Name: ', b)"
   ]
  },
  {
   "cell_type": "code",
   "execution_count": 10,
   "metadata": {},
   "outputs": [
    {
     "name": "stdout",
     "output_type": "stream",
     "text": [
      "整數1 = 10\n",
      "整數2 = 101\n",
      "111\n",
      "-91\n",
      "1010\n",
      "0.09900990099009901\n"
     ]
    }
   ],
   "source": [
    "a = int(input('整數1 = '))\n",
    "b = int(input('整數2 = '))\n",
    "print(a + b)\n",
    "print(a - b)\n",
    "print(a * b)\n",
    "print(a / b)"
   ]
  },
  {
   "cell_type": "code",
   "execution_count": 11,
   "metadata": {},
   "outputs": [
    {
     "name": "stdout",
     "output_type": "stream",
     "text": [
      "看看小說就好\n"
     ]
    }
   ],
   "source": [
    "battery = 50\n",
    "if battery > 80:\n",
    "    print('來去抓寶可夢')\n",
    "elif battery < 30:\n",
    "    print('乖乖回家吧')\n",
    "else:\n",
    "    print('看看小說就好')"
   ]
  },
  {
   "cell_type": "code",
   "execution_count": 12,
   "metadata": {},
   "outputs": [
    {
     "name": "stdout",
     "output_type": "stream",
     "text": [
      "不是Note7就好, 記得充電唷寶貝\n"
     ]
    }
   ],
   "source": [
    "phone = 'iphone'\n",
    "battery = 5\n",
    "if phone == 'Samsung Note 7' and battery < 10:\n",
    "    print('要爆炸了,塊陶啊~~~')\n",
    "elif phone != 'Samsung Note 7' and battery < 10:\n",
    "    print('不是Note7就好, 記得充電唷寶貝')\n",
    "elif not phone == 'Samsung Note 7' or battery > 90:\n",
    "    print('不是Note7或電池飽飽的, 沒有爆炸的危機')\n",
    "else:\n",
    "    print('我也不知道你發生什麼事了')"
   ]
  },
  {
   "cell_type": "code",
   "execution_count": 16,
   "metadata": {
    "scrolled": true
   },
   "outputs": [
    {
     "name": "stdout",
     "output_type": "stream",
     "text": [
      "運算符號: +\n",
      "整數1: 12\n",
      "整數2: 14\n",
      "26\n"
     ]
    }
   ],
   "source": [
    "x = input('運算符號: ')\n",
    "a = int(input('整數1: '))\n",
    "b = int(input('整數2: '))\n",
    "\n",
    "if x == '+':\n",
    "    print(a + b)\n",
    "elif x == '-':\n",
    "    print(a - b)\n",
    "elif x == '*':\n",
    "    print(a * b)\n",
    "elif x == '/':\n",
    "    print(a / b)\n",
    "else:\n",
    "    print('錯誤')"
   ]
  },
  {
   "cell_type": "code",
   "execution_count": 17,
   "metadata": {},
   "outputs": [
    {
     "name": "stdout",
     "output_type": "stream",
     "text": [
      "0\n",
      "1\n",
      "2\n",
      "3\n",
      "4\n",
      "5\n",
      "6\n",
      "7\n",
      "8\n",
      "9\n"
     ]
    }
   ],
   "source": [
    "for i in range(0,10):\n",
    "    print(i)"
   ]
  },
  {
   "cell_type": "code",
   "execution_count": 18,
   "metadata": {},
   "outputs": [
    {
     "name": "stdout",
     "output_type": "stream",
     "text": [
      "0\n",
      "1\n",
      "2\n",
      "3\n",
      "4\n",
      "5\n",
      "6\n",
      "7\n",
      "8\n",
      "9\n"
     ]
    }
   ],
   "source": [
    "for i in range(10):\n",
    "    print(i)"
   ]
  },
  {
   "cell_type": "code",
   "execution_count": 20,
   "metadata": {},
   "outputs": [
    {
     "name": "stdout",
     "output_type": "stream",
     "text": [
      "1 2 3 4 5 6 7 8 9 \n",
      "2 4 6 8 10 12 14 16 18 \n",
      "3 6 9 12 15 18 21 24 27 \n",
      "4 8 12 16 20 24 28 32 36 \n",
      "5 10 15 20 25 30 35 40 45 \n",
      "6 12 18 24 30 36 42 48 54 \n",
      "7 14 21 28 35 42 49 56 63 \n",
      "8 16 24 32 40 48 56 64 72 \n",
      "9 18 27 36 45 54 63 72 81 \n"
     ]
    }
   ],
   "source": [
    "for i in range(1,10):\n",
    "    for j in range(1,10):\n",
    "        print(i * j, end=' ')\n",
    "    print(end='\\n')"
   ]
  },
  {
   "cell_type": "code",
   "execution_count": 21,
   "metadata": {},
   "outputs": [
    {
     "name": "stdout",
     "output_type": "stream",
     "text": [
      "1\n",
      "3\n",
      "5\n",
      "7\n",
      "9\n"
     ]
    }
   ],
   "source": [
    "for i in range(1, 10, 2):\n",
    "    print(i)"
   ]
  },
  {
   "cell_type": "code",
   "execution_count": 22,
   "metadata": {},
   "outputs": [
    {
     "name": "stdout",
     "output_type": "stream",
     "text": [
      "10\n",
      "7\n",
      "4\n"
     ]
    }
   ],
   "source": [
    "for i in range(10, 2, -3):\n",
    "    print(i)"
   ]
  },
  {
   "cell_type": "code",
   "execution_count": 27,
   "metadata": {},
   "outputs": [
    {
     "name": "stdout",
     "output_type": "stream",
     "text": [
      "1\n",
      "猜錯了\n",
      "1\n",
      "猜錯了\n",
      "1\n",
      "猜錯了\n",
      "遊戲GG囉\n"
     ]
    }
   ],
   "source": [
    "ans = 29\n",
    "b = False\n",
    "for guessChance in range(0,3):\n",
    "    guess = int(input())\n",
    "    if ans == guess:\n",
    "        print('Bingo!')\n",
    "        b = True\n",
    "        break\n",
    "    else:\n",
    "        print('猜錯了')\n",
    "if not b:\n",
    "    print('遊戲GG囉')\n"
   ]
  },
  {
   "cell_type": "code",
   "execution_count": 28,
   "metadata": {},
   "outputs": [
    {
     "name": "stdout",
     "output_type": "stream",
     "text": [
      "Lynn\n",
      "0.87\n",
      "1234\n",
      "True\n"
     ]
    }
   ],
   "source": [
    "a = ['Lynn', 0.87, 1234, True]\n",
    "for i in range(0, len(a)):\n",
    "    print(a[i])"
   ]
  },
  {
   "cell_type": "code",
   "execution_count": 30,
   "metadata": {},
   "outputs": [
    {
     "name": "stdout",
     "output_type": "stream",
     "text": [
      "Lynn\n",
      "0.87\n",
      "1234\n",
      "True\n"
     ]
    }
   ],
   "source": [
    "a = ['Lynn', 0.87, 1234, True]\n",
    "for i in a:\n",
    "    print(i)"
   ]
  },
  {
   "cell_type": "code",
   "execution_count": 31,
   "metadata": {},
   "outputs": [
    {
     "name": "stdout",
     "output_type": "stream",
     "text": [
      "1\n",
      "9\n",
      "25\n",
      "49\n",
      "81\n",
      "[1, 9, 25, 49, 81]\n"
     ]
    }
   ],
   "source": [
    "a = [1, 3, 5, 7, 9]\n",
    "for i in range(0, len(a)):\n",
    "    print(a[i] ** 2)\n",
    "    a[i] = a[i] ** 2\n",
    "print(a)"
   ]
  },
  {
   "cell_type": "code",
   "execution_count": 32,
   "metadata": {},
   "outputs": [
    {
     "name": "stdout",
     "output_type": "stream",
     "text": [
      "[1, 3, 7, 9]\n"
     ]
    }
   ],
   "source": [
    "a = [1, 3, 5, 7, 9]\n",
    "a.pop(2)\n",
    "print(a)"
   ]
  },
  {
   "cell_type": "code",
   "execution_count": 33,
   "metadata": {},
   "outputs": [
    {
     "name": "stdout",
     "output_type": "stream",
     "text": [
      "['Justin Bieber', 'Taylor Swift', 'Lady Gaga', 'Katy Perry', 'Sia']\n",
      "['Justin Bieber', 'Taylor Swift', 'Britney Spears', 'Lady Gaga', 'Katy Perry', 'Sia']\n"
     ]
    }
   ],
   "source": [
    "singers = ['Justin Bieber', 'Taylor Swift', 'Lady Gaga', 'Katy Perry']\n",
    "singers.append('Sia')\n",
    "print(singers)\n",
    "\n",
    "singers.insert(2, 'Britney Spears')\n",
    "print(singers)"
   ]
  },
  {
   "cell_type": "code",
   "execution_count": 34,
   "metadata": {},
   "outputs": [
    {
     "name": "stdout",
     "output_type": "stream",
     "text": [
      "['Colin Firth', 'Christian Bale', 'Angelina Jolie']\n",
      "['Colin Firth', 'Christian Bale']\n"
     ]
    }
   ],
   "source": [
    "cast = ['Colin Firth', 'Christian Bale', 'Angelina Jolie', 'Anne Hathaway']\n",
    "cast.pop()\n",
    "print(cast)\n",
    "\n",
    "cast.pop(2)\n",
    "print(cast)"
   ]
  },
  {
   "cell_type": "code",
   "execution_count": 36,
   "metadata": {},
   "outputs": [
    {
     "name": "stdout",
     "output_type": "stream",
     "text": [
      "['小提琴', '牛排', '妹子', '蠟燭']\n",
      "['小提琴', '牛排', '蠟燭']\n",
      "[]\n"
     ]
    }
   ],
   "source": [
    "sweet_dinner = ['小提琴', '妹子', '牛排', '妹子', '蠟燭']\n",
    "sweet_dinner.remove('妹子')\n",
    "print(sweet_dinner)\n",
    "sweet_dinner.remove('妹子')\n",
    "print(sweet_dinner)\n",
    "\n",
    "sweet_dinner.clear()\n",
    "print(sweet_dinner)"
   ]
  },
  {
   "cell_type": "code",
   "execution_count": 45,
   "metadata": {},
   "outputs": [
    {
     "name": "stdout",
     "output_type": "stream",
     "text": [
      "五次成績: [10, 30, 50, 70, 90]\n",
      "平均成績: 50.0\n",
      "新成績: [31.622776601683796, 54.772255750516614, 70.71067811865476, 83.66600265340756, 94.86832980505139]\n",
      "新平均成績: 67.12800858586283\n"
     ]
    }
   ],
   "source": [
    "grades = [10, 30, 50, 70, 90]\n",
    "print('五次成績:', grades)\n",
    "print('平均成績:', sum(grades) / len(grades))\n",
    "\n",
    "for i in range(0, len(grades)):\n",
    "    grades[i] = (grades[i] ** 0.5) * 10\n",
    "print('新成績:', grades)\n",
    "print('新平均成績:', sum(grades) / len(grades))\n"
   ]
  },
  {
   "cell_type": "code",
   "execution_count": 40,
   "metadata": {},
   "outputs": [
    {
     "name": "stdout",
     "output_type": "stream",
     "text": [
      "['Hi', 'Hello', 'Hey', 'Yo', 'Howdy']\n",
      "['Hey', 'Yo']\n"
     ]
    }
   ],
   "source": [
    "greeting = ['Hi', 'Hello', 'Hey', 'Yo', 'Howdy', 'Morning']\n",
    "print(greeting[0:5])\n",
    "print(greeting[2:4])"
   ]
  },
  {
   "cell_type": "code",
   "execution_count": 49,
   "metadata": {},
   "outputs": [
    {
     "name": "stdout",
     "output_type": "stream",
     "text": [
      "['Hi', 'Hello', 'Hey', 'Yo']\n",
      "['Hey', 'Yo', 'Howdy', 'Morning']\n",
      "['Hi', 'Hello', 'Hey', 'Yo', 'Howdy', 'Morning']\n"
     ]
    }
   ],
   "source": [
    "greeting = ['Hi', 'Hello', 'Hey', 'Yo', 'Howdy', 'Morning']\n",
    "print(greeting[:4])\n",
    "print(greeting[2:])\n",
    "print(greeting[:])"
   ]
  },
  {
   "cell_type": "code",
   "execution_count": 50,
   "metadata": {},
   "outputs": [
    {
     "name": "stdout",
     "output_type": "stream",
     "text": [
      "輸入數字: 2\n",
      "輸入數字: 3\n",
      "輸入數字: 4\n",
      "輸入數字: 5\n",
      "輸入數字: 6\n",
      "輸入數字: 7\n",
      "輸入數字: 8\n",
      "輸入數字: 9\n",
      "輸入數字: 10\n",
      "輸入數字: 1\n",
      "[2, 3, 4, 5, 6, 7, 8, 9, 10, 1]\n",
      "\n",
      "頭在哪裡: 0\n",
      "尾在哪裡: 6\n",
      "總和:  27\n",
      "\n",
      "頭在哪裡: 6\n",
      "尾在哪裡: 3\n",
      "總和:  0\n",
      "\n",
      "頭在哪裡: 2\n",
      "尾在哪裡: 5\n",
      "總和:  15\n",
      "\n",
      "頭在哪裡: 1\n",
      "尾在哪裡: 1\n",
      "總和:  0\n",
      "\n",
      "頭在哪裡: 1\n",
      "尾在哪裡: 2\n",
      "總和:  3\n",
      "\n"
     ]
    }
   ],
   "source": [
    "people = []\n",
    "for i in range(0, 10):\n",
    "    i = int(input('輸入數字: '))\n",
    "    people.append(i)\n",
    "print(people)\n",
    "print(end='\\n')\n",
    "\n",
    "for question in range(0, 5):\n",
    "    a = int(input('頭在哪裡: '))\n",
    "    b = int(input('尾在哪裡: '))\n",
    "    print('總和: ', sum(people[a:b]))\n",
    "    print(end='\\n')"
   ]
  },
  {
   "cell_type": "code",
   "execution_count": 51,
   "metadata": {},
   "outputs": [
    {
     "name": "stdout",
     "output_type": "stream",
     "text": [
      "{'one': 1, 'two': 2, 'three': 3}\n"
     ]
    }
   ],
   "source": [
    "d = {'one':1, 'two':2, 'three':3}\n",
    "print(d)"
   ]
  },
  {
   "cell_type": "code",
   "execution_count": 52,
   "metadata": {},
   "outputs": [
    {
     "name": "stdout",
     "output_type": "stream",
     "text": [
      "3\n"
     ]
    }
   ],
   "source": [
    "profile = {'name':'Lynn', 'birth':1205, 'id':235}\n",
    "print(len(profile))"
   ]
  },
  {
   "cell_type": "code",
   "execution_count": 55,
   "metadata": {},
   "outputs": [
    {
     "name": "stdout",
     "output_type": "stream",
     "text": [
      "2\n",
      "['Lynn', 1205, 'college']\n",
      "235\n"
     ]
    }
   ],
   "source": [
    "customer_profile = {1:['Lynn', 1205, 'college'], 'id':235}\n",
    "print(len(customer_profile))\n",
    "print(customer_profile[1])\n",
    "print(customer_profile['id'])"
   ]
  },
  {
   "cell_type": "code",
   "execution_count": 56,
   "metadata": {
    "scrolled": true
   },
   "outputs": [
    {
     "name": "stdout",
     "output_type": "stream",
     "text": [
      "輸入字串: eat\n",
      "輸入整數: 24\n",
      "\n",
      "輸入字串: 4\n",
      "輸入整數: 17\n",
      "\n",
      "輸入字串: Lynn\n",
      "輸入整數: 19\n",
      "\n",
      "輸入字串: hello_world\n",
      "輸入整數: 265\n",
      "\n",
      "輸入字串: 5578\n",
      "輸入整數: 201\n",
      "\n",
      "{'eat': 24, '4': 17, 'Lynn': 19, 'hello_world': 265, '5578': 201}\n"
     ]
    }
   ],
   "source": [
    "table = {}\n",
    "for inputTimes in range(0, 5):\n",
    "    k = input('輸入字串: ')\n",
    "    v = int(input('輸入整數: '))\n",
    "    table[k] = v\n",
    "    print(end='\\n')\n",
    "print(table)"
   ]
  },
  {
   "cell_type": "code",
   "execution_count": 57,
   "metadata": {},
   "outputs": [
    {
     "name": "stdout",
     "output_type": "stream",
     "text": [
      "繼續找吧孩子...\n",
      "我找到了! key =  two\n"
     ]
    }
   ],
   "source": [
    "d = {'one':1, 'two':2, 'three':3, 'four':4, 'five':5}\n",
    "target = 2\n",
    "for key in d:\n",
    "    if d[key] == target:\n",
    "        print('我找到了! key = ', key)\n",
    "        break\n",
    "    else:\n",
    "        print('繼續找吧孩子...')"
   ]
  },
  {
   "cell_type": "code",
   "execution_count": 58,
   "metadata": {},
   "outputs": [
    {
     "name": "stdout",
     "output_type": "stream",
     "text": [
      "True\n",
      "False\n"
     ]
    }
   ],
   "source": [
    "d = {'one':1, 'two':2, 'three':3, 'four':4, 'five':5}\n",
    "print('one' in d)\n",
    "print(1 in d)"
   ]
  },
  {
   "cell_type": "code",
   "execution_count": 59,
   "metadata": {},
   "outputs": [
    {
     "name": "stdout",
     "output_type": "stream",
     "text": [
      "False\n",
      "True\n",
      "True\n",
      "False\n"
     ]
    }
   ],
   "source": [
    "d = {'one':1, 'two':2, 'three':3, 'four':4, 'five':5}\n",
    "print(0 in d.keys())\n",
    "print(1 in d.values())\n",
    "print('one' in d.keys())\n",
    "print(9 in d.values())"
   ]
  },
  {
   "cell_type": "code",
   "execution_count": 60,
   "metadata": {},
   "outputs": [
    {
     "name": "stdout",
     "output_type": "stream",
     "text": [
      "1\n",
      "2\n",
      "找不到噎\n"
     ]
    }
   ],
   "source": [
    "d = {'one':1, 'two':2, 'three':3, 'four':4, 'five':5}\n",
    "print(d['one'])\n",
    "print(d.get('two', '找不到噎'))\n",
    "print(d.get(2, '找不到噎'))\n"
   ]
  },
  {
   "cell_type": "code",
   "execution_count": 62,
   "metadata": {},
   "outputs": [
    {
     "name": "stdout",
     "output_type": "stream",
     "text": [
      "歌手名: Rihanna\n",
      "成績: 84\n",
      "\n",
      "歌手名: Adele\n",
      "成績: 70\n",
      "\n",
      "歌手名: Talor Swift\n",
      "成績: 70\n",
      "\n",
      "歌手名: Ed Sheeran\n",
      "成績: 86\n",
      "\n",
      "歌手名: Adam Lambert\n",
      "成績: 82\n",
      "\n",
      "{'Rihanna': 84, 'Adele': 70, 'Talor Swift': 70, 'Ed Sheeran': 86, 'Adam Lambert': 82}\n",
      "\n",
      "你要查誰呢: Adele\n",
      "70\n",
      "\n",
      "你要查誰呢: Katy Perry\n",
      "這個人沒參賽唷\n",
      "\n",
      "你要查誰呢: a\n",
      "這個人沒參賽唷\n",
      "\n",
      "你要查誰呢: a\n",
      "這個人沒參賽唷\n",
      "\n",
      "你要查誰呢: a\n",
      "這個人沒參賽唷\n",
      "\n"
     ]
    }
   ],
   "source": [
    "competition = {}\n",
    "for judge in range(0, 5):\n",
    "    name = input('歌手名: ')\n",
    "    grade = int(input('成績: '))\n",
    "    competition[name] = grade\n",
    "    print(end='\\n')\n",
    "print(competition)\n",
    "print(end='\\n')\n",
    "\n",
    "for audience in range(0, 5):\n",
    "    query = input('你要查誰呢: ')\n",
    "    print(competition.get(query, '這個人沒參賽唷'))\n",
    "    print(end='\\n')"
   ]
  },
  {
   "cell_type": "code",
   "execution_count": 4,
   "metadata": {},
   "outputs": [
    {
     "name": "stdout",
     "output_type": "stream",
     "text": [
      "This program stared on Fri Mar 30 14:22:45 2018\n"
     ]
    }
   ],
   "source": [
    "import time\n",
    "import webbrowser\n",
    "\n",
    "total_breaks = 3\n",
    "break_count = 0\n",
    "print('This program stared on ' + time.ctime())\n",
    "while(break_count < total_breaks):\n",
    "    time.sleep(10)\n",
    "    webbrowser.open('https://www.youtube.com/watch?v=FTOcIUFME8g')\n",
    "    break_count = break_count + 1"
   ]
  },
  {
   "cell_type": "code",
   "execution_count": null,
   "metadata": {},
   "outputs": [],
   "source": []
  }
 ],
 "metadata": {
  "kernelspec": {
   "display_name": "Python 3",
   "language": "python",
   "name": "python3"
  },
  "language_info": {
   "codemirror_mode": {
    "name": "ipython",
    "version": 3
   },
   "file_extension": ".py",
   "mimetype": "text/x-python",
   "name": "python",
   "nbconvert_exporter": "python",
   "pygments_lexer": "ipython3",
   "version": "3.6.4"
  }
 },
 "nbformat": 4,
 "nbformat_minor": 2
}
